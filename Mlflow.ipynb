{
 "cells": [
  {
   "cell_type": "code",
   "execution_count": 1,
   "id": "d64a8aca-ef38-43ad-a105-2720823ceee1",
   "metadata": {},
   "outputs": [
    {
     "data": {
      "text/html": [
       "<div>\n",
       "<style scoped>\n",
       "    .dataframe tbody tr th:only-of-type {\n",
       "        vertical-align: middle;\n",
       "    }\n",
       "\n",
       "    .dataframe tbody tr th {\n",
       "        vertical-align: top;\n",
       "    }\n",
       "\n",
       "    .dataframe thead th {\n",
       "        text-align: right;\n",
       "    }\n",
       "</style>\n",
       "<table border=\"1\" class=\"dataframe\">\n",
       "  <thead>\n",
       "    <tr style=\"text-align: right;\">\n",
       "      <th></th>\n",
       "      <th>Loan_ID</th>\n",
       "      <th>Gender</th>\n",
       "      <th>Married</th>\n",
       "      <th>Dependents</th>\n",
       "      <th>Education</th>\n",
       "      <th>Self_Employed</th>\n",
       "      <th>ApplicantIncome</th>\n",
       "      <th>CoapplicantIncome</th>\n",
       "      <th>LoanAmount</th>\n",
       "      <th>Loan_Amount_Term</th>\n",
       "      <th>Credit_History</th>\n",
       "      <th>Property_Area</th>\n",
       "      <th>Loan_Status</th>\n",
       "    </tr>\n",
       "  </thead>\n",
       "  <tbody>\n",
       "    <tr>\n",
       "      <th>0</th>\n",
       "      <td>LP002529</td>\n",
       "      <td>Male</td>\n",
       "      <td>Yes</td>\n",
       "      <td>2</td>\n",
       "      <td>Graduate</td>\n",
       "      <td>No</td>\n",
       "      <td>6700</td>\n",
       "      <td>1750.0</td>\n",
       "      <td>230.0</td>\n",
       "      <td>300.0</td>\n",
       "      <td>1.0</td>\n",
       "      <td>Semiurban</td>\n",
       "      <td>Y</td>\n",
       "    </tr>\n",
       "    <tr>\n",
       "      <th>1</th>\n",
       "      <td>LP001385</td>\n",
       "      <td>Male</td>\n",
       "      <td>No</td>\n",
       "      <td>0</td>\n",
       "      <td>Graduate</td>\n",
       "      <td>No</td>\n",
       "      <td>5316</td>\n",
       "      <td>0.0</td>\n",
       "      <td>136.0</td>\n",
       "      <td>360.0</td>\n",
       "      <td>1.0</td>\n",
       "      <td>Urban</td>\n",
       "      <td>Y</td>\n",
       "    </tr>\n",
       "    <tr>\n",
       "      <th>2</th>\n",
       "      <td>LP001926</td>\n",
       "      <td>Male</td>\n",
       "      <td>Yes</td>\n",
       "      <td>0</td>\n",
       "      <td>Graduate</td>\n",
       "      <td>No</td>\n",
       "      <td>3704</td>\n",
       "      <td>2000.0</td>\n",
       "      <td>120.0</td>\n",
       "      <td>360.0</td>\n",
       "      <td>1.0</td>\n",
       "      <td>Rural</td>\n",
       "      <td>Y</td>\n",
       "    </tr>\n",
       "    <tr>\n",
       "      <th>3</th>\n",
       "      <td>LP001144</td>\n",
       "      <td>Male</td>\n",
       "      <td>Yes</td>\n",
       "      <td>0</td>\n",
       "      <td>Graduate</td>\n",
       "      <td>No</td>\n",
       "      <td>5821</td>\n",
       "      <td>0.0</td>\n",
       "      <td>144.0</td>\n",
       "      <td>360.0</td>\n",
       "      <td>1.0</td>\n",
       "      <td>Urban</td>\n",
       "      <td>Y</td>\n",
       "    </tr>\n",
       "    <tr>\n",
       "      <th>4</th>\n",
       "      <td>LP002562</td>\n",
       "      <td>Male</td>\n",
       "      <td>Yes</td>\n",
       "      <td>1</td>\n",
       "      <td>Not Graduate</td>\n",
       "      <td>No</td>\n",
       "      <td>5333</td>\n",
       "      <td>1131.0</td>\n",
       "      <td>186.0</td>\n",
       "      <td>360.0</td>\n",
       "      <td>NaN</td>\n",
       "      <td>Urban</td>\n",
       "      <td>Y</td>\n",
       "    </tr>\n",
       "  </tbody>\n",
       "</table>\n",
       "</div>"
      ],
      "text/plain": [
       "    Loan_ID Gender Married Dependents     Education Self_Employed  \\\n",
       "0  LP002529   Male     Yes          2      Graduate            No   \n",
       "1  LP001385   Male      No          0      Graduate            No   \n",
       "2  LP001926   Male     Yes          0      Graduate            No   \n",
       "3  LP001144   Male     Yes          0      Graduate            No   \n",
       "4  LP002562   Male     Yes          1  Not Graduate            No   \n",
       "\n",
       "   ApplicantIncome  CoapplicantIncome  LoanAmount  Loan_Amount_Term  \\\n",
       "0             6700             1750.0       230.0             300.0   \n",
       "1             5316                0.0       136.0             360.0   \n",
       "2             3704             2000.0       120.0             360.0   \n",
       "3             5821                0.0       144.0             360.0   \n",
       "4             5333             1131.0       186.0             360.0   \n",
       "\n",
       "   Credit_History Property_Area Loan_Status  \n",
       "0             1.0     Semiurban           Y  \n",
       "1             1.0         Urban           Y  \n",
       "2             1.0         Rural           Y  \n",
       "3             1.0         Urban           Y  \n",
       "4             NaN         Urban           Y  "
      ]
     },
     "execution_count": 1,
     "metadata": {},
     "output_type": "execute_result"
    }
   ],
   "source": [
    "import pandas as pd\n",
    "import numpy as np\n",
    "\n",
    "train_df = pd.read_csv('data.csv')\n",
    "train_df.head()"
   ]
  },
  {
   "cell_type": "code",
   "execution_count": 2,
   "id": "e71728b8-08f3-4607-b439-405659a91924",
   "metadata": {},
   "outputs": [
    {
     "name": "stdout",
     "output_type": "stream",
     "text": [
      "<class 'pandas.core.frame.DataFrame'>\n",
      "RangeIndex: 430 entries, 0 to 429\n",
      "Data columns (total 13 columns):\n",
      " #   Column             Non-Null Count  Dtype  \n",
      "---  ------             --------------  -----  \n",
      " 0   Loan_ID            430 non-null    object \n",
      " 1   Gender             420 non-null    float64\n",
      " 2   Married            427 non-null    float64\n",
      " 3   Dependents         416 non-null    object \n",
      " 4   Education          430 non-null    object \n",
      " 5   Self_Employed      410 non-null    object \n",
      " 6   ApplicantIncome    430 non-null    int64  \n",
      " 7   CoapplicantIncome  430 non-null    float64\n",
      " 8   LoanAmount         414 non-null    float64\n",
      " 9   Loan_Amount_Term   422 non-null    float64\n",
      " 10  Credit_History     394 non-null    float64\n",
      " 11  Property_Area      430 non-null    object \n",
      " 12  Loan_Status        430 non-null    int64  \n",
      "dtypes: float64(6), int64(2), object(5)\n",
      "memory usage: 43.8+ KB\n"
     ]
    }
   ],
   "source": [
    "train_df['Gender']= train_df['Gender'].map({'Male':0, 'Female':1})\n",
    "train_df['Married']= train_df['Married'].map({'No':0, 'Yes':1})\n",
    "train_df['Loan_Status']= train_df['Loan_Status'].map({'N':0, 'Y':1})\n",
    "\n",
    "train_df.info()"
   ]
  },
  {
   "cell_type": "code",
   "execution_count": 3,
   "id": "8b4729c2-7459-4ec1-b9c6-aac4444419dc",
   "metadata": {},
   "outputs": [
    {
     "data": {
      "text/plain": [
       "Loan_ID               0\n",
       "Gender               10\n",
       "Married               3\n",
       "Dependents           14\n",
       "Education             0\n",
       "Self_Employed        20\n",
       "ApplicantIncome       0\n",
       "CoapplicantIncome     0\n",
       "LoanAmount           16\n",
       "Loan_Amount_Term      8\n",
       "Credit_History       36\n",
       "Property_Area         0\n",
       "Loan_Status           0\n",
       "dtype: int64"
      ]
     },
     "execution_count": 3,
     "metadata": {},
     "output_type": "execute_result"
    }
   ],
   "source": [
    "train_df.isnull().sum()\n"
   ]
  },
  {
   "cell_type": "code",
   "execution_count": 4,
   "id": "ff7f0e56-73b9-472f-9254-5660500311aa",
   "metadata": {},
   "outputs": [
    {
     "data": {
      "text/plain": [
       "Loan_ID              0\n",
       "Gender               0\n",
       "Married              0\n",
       "Dependents           0\n",
       "Education            0\n",
       "Self_Employed        0\n",
       "ApplicantIncome      0\n",
       "CoapplicantIncome    0\n",
       "LoanAmount           0\n",
       "Loan_Amount_Term     0\n",
       "Credit_History       0\n",
       "Property_Area        0\n",
       "Loan_Status          0\n",
       "dtype: int64"
      ]
     },
     "execution_count": 4,
     "metadata": {},
     "output_type": "execute_result"
    }
   ],
   "source": [
    "train_df = train_df.dropna()\n",
    "train_df.isnull().sum()"
   ]
  },
  {
   "cell_type": "code",
   "execution_count": 5,
   "id": "fbf1c5bb-2f12-44d2-a995-1940ce0eead0",
   "metadata": {},
   "outputs": [
    {
     "data": {
      "text/plain": [
       "((335, 5), (335,))"
      ]
     },
     "execution_count": 5,
     "metadata": {},
     "output_type": "execute_result"
    }
   ],
   "source": [
    "X = train_df[['Gender', 'Married', 'ApplicantIncome', 'LoanAmount', 'Credit_History']]\n",
    "y = train_df.Loan_Status\n",
    "X.shape, y.shape"
   ]
  },
  {
   "cell_type": "code",
   "execution_count": 7,
   "id": "fc588ba5-afd0-436a-acec-3d6360a4b9fd",
   "metadata": {},
   "outputs": [],
   "source": [
    "from sklearn.model_selection import train_test_split\n",
    "\n",
    "X_train, X_val, y_train, y_val = train_test_split(X, y, test_size=0.2, random_state=5)"
   ]
  },
  {
   "cell_type": "code",
   "execution_count": 8,
   "id": "d7ab9521-4166-4d87-98d1-3e5023b2468e",
   "metadata": {},
   "outputs": [
    {
     "data": {
      "text/html": [
       "<style>#sk-container-id-1 {color: black;background-color: white;}#sk-container-id-1 pre{padding: 0;}#sk-container-id-1 div.sk-toggleable {background-color: white;}#sk-container-id-1 label.sk-toggleable__label {cursor: pointer;display: block;width: 100%;margin-bottom: 0;padding: 0.3em;box-sizing: border-box;text-align: center;}#sk-container-id-1 label.sk-toggleable__label-arrow:before {content: \"▸\";float: left;margin-right: 0.25em;color: #696969;}#sk-container-id-1 label.sk-toggleable__label-arrow:hover:before {color: black;}#sk-container-id-1 div.sk-estimator:hover label.sk-toggleable__label-arrow:before {color: black;}#sk-container-id-1 div.sk-toggleable__content {max-height: 0;max-width: 0;overflow: hidden;text-align: left;background-color: #f0f8ff;}#sk-container-id-1 div.sk-toggleable__content pre {margin: 0.2em;color: black;border-radius: 0.25em;background-color: #f0f8ff;}#sk-container-id-1 input.sk-toggleable__control:checked~div.sk-toggleable__content {max-height: 200px;max-width: 100%;overflow: auto;}#sk-container-id-1 input.sk-toggleable__control:checked~label.sk-toggleable__label-arrow:before {content: \"▾\";}#sk-container-id-1 div.sk-estimator input.sk-toggleable__control:checked~label.sk-toggleable__label {background-color: #d4ebff;}#sk-container-id-1 div.sk-label input.sk-toggleable__control:checked~label.sk-toggleable__label {background-color: #d4ebff;}#sk-container-id-1 input.sk-hidden--visually {border: 0;clip: rect(1px 1px 1px 1px);clip: rect(1px, 1px, 1px, 1px);height: 1px;margin: -1px;overflow: hidden;padding: 0;position: absolute;width: 1px;}#sk-container-id-1 div.sk-estimator {font-family: monospace;background-color: #f0f8ff;border: 1px dotted black;border-radius: 0.25em;box-sizing: border-box;margin-bottom: 0.5em;}#sk-container-id-1 div.sk-estimator:hover {background-color: #d4ebff;}#sk-container-id-1 div.sk-parallel-item::after {content: \"\";width: 100%;border-bottom: 1px solid gray;flex-grow: 1;}#sk-container-id-1 div.sk-label:hover label.sk-toggleable__label {background-color: #d4ebff;}#sk-container-id-1 div.sk-serial::before {content: \"\";position: absolute;border-left: 1px solid gray;box-sizing: border-box;top: 0;bottom: 0;left: 50%;z-index: 0;}#sk-container-id-1 div.sk-serial {display: flex;flex-direction: column;align-items: center;background-color: white;padding-right: 0.2em;padding-left: 0.2em;position: relative;}#sk-container-id-1 div.sk-item {position: relative;z-index: 1;}#sk-container-id-1 div.sk-parallel {display: flex;align-items: stretch;justify-content: center;background-color: white;position: relative;}#sk-container-id-1 div.sk-item::before, #sk-container-id-1 div.sk-parallel-item::before {content: \"\";position: absolute;border-left: 1px solid gray;box-sizing: border-box;top: 0;bottom: 0;left: 50%;z-index: -1;}#sk-container-id-1 div.sk-parallel-item {display: flex;flex-direction: column;z-index: 1;position: relative;background-color: white;}#sk-container-id-1 div.sk-parallel-item:first-child::after {align-self: flex-end;width: 50%;}#sk-container-id-1 div.sk-parallel-item:last-child::after {align-self: flex-start;width: 50%;}#sk-container-id-1 div.sk-parallel-item:only-child::after {width: 0;}#sk-container-id-1 div.sk-dashed-wrapped {border: 1px dashed gray;margin: 0 0.4em 0.5em 0.4em;box-sizing: border-box;padding-bottom: 0.4em;background-color: white;}#sk-container-id-1 div.sk-label label {font-family: monospace;font-weight: bold;display: inline-block;line-height: 1.2em;}#sk-container-id-1 div.sk-label-container {text-align: center;}#sk-container-id-1 div.sk-container {/* jupyter's `normalize.less` sets `[hidden] { display: none; }` but bootstrap.min.css set `[hidden] { display: none !important; }` so we also need the `!important` here to be able to override the default hidden behavior on the sphinx rendered scikit-learn.org. See: https://github.com/scikit-learn/scikit-learn/issues/21755 */display: inline-block !important;position: relative;}#sk-container-id-1 div.sk-text-repr-fallback {display: none;}</style><div id=\"sk-container-id-1\" class=\"sk-top-container\"><div class=\"sk-text-repr-fallback\"><pre>RandomForestClassifier(max_depth=4, random_state=5)</pre><b>In a Jupyter environment, please rerun this cell to show the HTML representation or trust the notebook. <br />On GitHub, the HTML representation is unable to render, please try loading this page with nbviewer.org.</b></div><div class=\"sk-container\" hidden><div class=\"sk-item\"><div class=\"sk-estimator sk-toggleable\"><input class=\"sk-toggleable__control sk-hidden--visually\" id=\"sk-estimator-id-1\" type=\"checkbox\" checked><label for=\"sk-estimator-id-1\" class=\"sk-toggleable__label sk-toggleable__label-arrow\">RandomForestClassifier</label><div class=\"sk-toggleable__content\"><pre>RandomForestClassifier(max_depth=4, random_state=5)</pre></div></div></div></div></div>"
      ],
      "text/plain": [
       "RandomForestClassifier(max_depth=4, random_state=5)"
      ]
     },
     "execution_count": 8,
     "metadata": {},
     "output_type": "execute_result"
    }
   ],
   "source": [
    "from sklearn.ensemble import RandomForestClassifier\n",
    "\n",
    "model = RandomForestClassifier(max_depth=4, random_state=5)\n",
    "model.fit(X_train, y_train)"
   ]
  },
  {
   "cell_type": "code",
   "execution_count": 9,
   "id": "63cd7f97-6d30-4403-9ec5-1830760940fd",
   "metadata": {},
   "outputs": [
    {
     "data": {
      "text/plain": [
       "0.7313432835820896"
      ]
     },
     "execution_count": 9,
     "metadata": {},
     "output_type": "execute_result"
    }
   ],
   "source": [
    "from sklearn.metrics import accuracy_score\n",
    "\n",
    "pred_val = model.predict(X_val)\n",
    "accuracy_score(y_val, pred_val)"
   ]
  },
  {
   "cell_type": "code",
   "execution_count": 10,
   "id": "8543430c-8a3e-4aa3-9027-52c776de2082",
   "metadata": {},
   "outputs": [
    {
     "data": {
      "text/plain": [
       "0.8134328358208955"
      ]
     },
     "execution_count": 10,
     "metadata": {},
     "output_type": "execute_result"
    }
   ],
   "source": [
    "pred_train = model.predict(X_train)\n",
    "accuracy_score(y_train, pred_train)"
   ]
  },
  {
   "cell_type": "code",
   "execution_count": 11,
   "id": "c20036f1-34aa-4b21-8161-cd702aa53c48",
   "metadata": {},
   "outputs": [
    {
     "name": "stdout",
     "output_type": "stream",
     "text": [
      "Requirement already satisfied: mlflow in /opt/anaconda3/lib/python3.11/site-packages (2.13.1)\n",
      "Requirement already satisfied: Flask<4 in /opt/anaconda3/lib/python3.11/site-packages (from mlflow) (2.2.5)\n",
      "Requirement already satisfied: alembic!=1.10.0,<2 in /opt/anaconda3/lib/python3.11/site-packages (from mlflow) (1.13.1)\n",
      "Requirement already satisfied: cachetools<6,>=5.0.0 in /opt/anaconda3/lib/python3.11/site-packages (from mlflow) (5.3.3)\n",
      "Requirement already satisfied: click<9,>=7.0 in /opt/anaconda3/lib/python3.11/site-packages (from mlflow) (8.1.7)\n",
      "Requirement already satisfied: cloudpickle<4 in /opt/anaconda3/lib/python3.11/site-packages (from mlflow) (2.2.1)\n",
      "Requirement already satisfied: docker<8,>=4.0.0 in /opt/anaconda3/lib/python3.11/site-packages (from mlflow) (7.1.0)\n",
      "Requirement already satisfied: entrypoints<1 in /opt/anaconda3/lib/python3.11/site-packages (from mlflow) (0.4)\n",
      "Requirement already satisfied: gitpython<4,>=3.1.9 in /opt/anaconda3/lib/python3.11/site-packages (from mlflow) (3.1.37)\n",
      "Requirement already satisfied: graphene<4 in /opt/anaconda3/lib/python3.11/site-packages (from mlflow) (3.3)\n",
      "Requirement already satisfied: importlib-metadata!=4.7.0,<8,>=3.7.0 in /opt/anaconda3/lib/python3.11/site-packages (from mlflow) (7.0.1)\n",
      "Requirement already satisfied: markdown<4,>=3.3 in /opt/anaconda3/lib/python3.11/site-packages (from mlflow) (3.4.1)\n",
      "Requirement already satisfied: matplotlib<4 in /opt/anaconda3/lib/python3.11/site-packages (from mlflow) (3.8.0)\n",
      "Requirement already satisfied: numpy<2 in /opt/anaconda3/lib/python3.11/site-packages (from mlflow) (1.26.4)\n",
      "Requirement already satisfied: opentelemetry-api<3,>=1.0.0 in /opt/anaconda3/lib/python3.11/site-packages (from mlflow) (1.25.0)\n",
      "Requirement already satisfied: opentelemetry-sdk<3,>=1.0.0 in /opt/anaconda3/lib/python3.11/site-packages (from mlflow) (1.25.0)\n",
      "Requirement already satisfied: packaging<25 in /opt/anaconda3/lib/python3.11/site-packages (from mlflow) (23.1)\n",
      "Requirement already satisfied: pandas<3 in /opt/anaconda3/lib/python3.11/site-packages (from mlflow) (2.1.4)\n",
      "Requirement already satisfied: protobuf<5,>=3.12.0 in /opt/anaconda3/lib/python3.11/site-packages (from mlflow) (3.20.3)\n",
      "Requirement already satisfied: pyarrow<16,>=4.0.0 in /opt/anaconda3/lib/python3.11/site-packages (from mlflow) (14.0.2)\n",
      "Requirement already satisfied: pytz<2025 in /opt/anaconda3/lib/python3.11/site-packages (from mlflow) (2023.3.post1)\n",
      "Requirement already satisfied: pyyaml<7,>=5.1 in /opt/anaconda3/lib/python3.11/site-packages (from mlflow) (6.0.1)\n",
      "Requirement already satisfied: querystring-parser<2 in /opt/anaconda3/lib/python3.11/site-packages (from mlflow) (1.2.4)\n",
      "Requirement already satisfied: requests<3,>=2.17.3 in /opt/anaconda3/lib/python3.11/site-packages (from mlflow) (2.31.0)\n",
      "Requirement already satisfied: scikit-learn<2 in /opt/anaconda3/lib/python3.11/site-packages (from mlflow) (1.2.2)\n",
      "Requirement already satisfied: scipy<2 in /opt/anaconda3/lib/python3.11/site-packages (from mlflow) (1.11.4)\n",
      "Requirement already satisfied: sqlalchemy<3,>=1.4.0 in /opt/anaconda3/lib/python3.11/site-packages (from mlflow) (2.0.25)\n",
      "Requirement already satisfied: sqlparse<1,>=0.4.0 in /opt/anaconda3/lib/python3.11/site-packages (from mlflow) (0.5.0)\n",
      "Requirement already satisfied: Jinja2<4,>=2.11 in /opt/anaconda3/lib/python3.11/site-packages (from mlflow) (3.1.3)\n",
      "Requirement already satisfied: gunicorn<23 in /opt/anaconda3/lib/python3.11/site-packages (from mlflow) (22.0.0)\n",
      "Requirement already satisfied: Mako in /opt/anaconda3/lib/python3.11/site-packages (from alembic!=1.10.0,<2->mlflow) (1.3.5)\n",
      "Requirement already satisfied: typing-extensions>=4 in /opt/anaconda3/lib/python3.11/site-packages (from alembic!=1.10.0,<2->mlflow) (4.9.0)\n",
      "Requirement already satisfied: urllib3>=1.26.0 in /opt/anaconda3/lib/python3.11/site-packages (from docker<8,>=4.0.0->mlflow) (2.0.7)\n",
      "Requirement already satisfied: Werkzeug>=2.2.2 in /opt/anaconda3/lib/python3.11/site-packages (from Flask<4->mlflow) (2.2.3)\n",
      "Requirement already satisfied: itsdangerous>=2.0 in /opt/anaconda3/lib/python3.11/site-packages (from Flask<4->mlflow) (2.0.1)\n",
      "Requirement already satisfied: gitdb<5,>=4.0.1 in /opt/anaconda3/lib/python3.11/site-packages (from gitpython<4,>=3.1.9->mlflow) (4.0.7)\n",
      "Requirement already satisfied: graphql-core<3.3,>=3.1 in /opt/anaconda3/lib/python3.11/site-packages (from graphene<4->mlflow) (3.2.3)\n",
      "Requirement already satisfied: graphql-relay<3.3,>=3.1 in /opt/anaconda3/lib/python3.11/site-packages (from graphene<4->mlflow) (3.2.0)\n",
      "Requirement already satisfied: aniso8601<10,>=8 in /opt/anaconda3/lib/python3.11/site-packages (from graphene<4->mlflow) (9.0.1)\n",
      "Requirement already satisfied: zipp>=0.5 in /opt/anaconda3/lib/python3.11/site-packages (from importlib-metadata!=4.7.0,<8,>=3.7.0->mlflow) (3.17.0)\n",
      "Requirement already satisfied: MarkupSafe>=2.0 in /opt/anaconda3/lib/python3.11/site-packages (from Jinja2<4,>=2.11->mlflow) (2.1.3)\n",
      "Requirement already satisfied: contourpy>=1.0.1 in /opt/anaconda3/lib/python3.11/site-packages (from matplotlib<4->mlflow) (1.2.0)\n",
      "Requirement already satisfied: cycler>=0.10 in /opt/anaconda3/lib/python3.11/site-packages (from matplotlib<4->mlflow) (0.11.0)\n",
      "Requirement already satisfied: fonttools>=4.22.0 in /opt/anaconda3/lib/python3.11/site-packages (from matplotlib<4->mlflow) (4.25.0)\n",
      "Requirement already satisfied: kiwisolver>=1.0.1 in /opt/anaconda3/lib/python3.11/site-packages (from matplotlib<4->mlflow) (1.4.4)\n",
      "Requirement already satisfied: pillow>=6.2.0 in /opt/anaconda3/lib/python3.11/site-packages (from matplotlib<4->mlflow) (10.2.0)\n",
      "Requirement already satisfied: pyparsing>=2.3.1 in /opt/anaconda3/lib/python3.11/site-packages (from matplotlib<4->mlflow) (3.0.9)\n",
      "Requirement already satisfied: python-dateutil>=2.7 in /opt/anaconda3/lib/python3.11/site-packages (from matplotlib<4->mlflow) (2.8.2)\n",
      "Requirement already satisfied: deprecated>=1.2.6 in /opt/anaconda3/lib/python3.11/site-packages (from opentelemetry-api<3,>=1.0.0->mlflow) (1.2.14)\n",
      "Requirement already satisfied: opentelemetry-semantic-conventions==0.46b0 in /opt/anaconda3/lib/python3.11/site-packages (from opentelemetry-sdk<3,>=1.0.0->mlflow) (0.46b0)\n",
      "Requirement already satisfied: tzdata>=2022.1 in /opt/anaconda3/lib/python3.11/site-packages (from pandas<3->mlflow) (2023.3)\n",
      "Requirement already satisfied: six in /opt/anaconda3/lib/python3.11/site-packages (from querystring-parser<2->mlflow) (1.16.0)\n",
      "Requirement already satisfied: charset-normalizer<4,>=2 in /opt/anaconda3/lib/python3.11/site-packages (from requests<3,>=2.17.3->mlflow) (2.0.4)\n",
      "Requirement already satisfied: idna<4,>=2.5 in /opt/anaconda3/lib/python3.11/site-packages (from requests<3,>=2.17.3->mlflow) (3.4)\n",
      "Requirement already satisfied: certifi>=2017.4.17 in /opt/anaconda3/lib/python3.11/site-packages (from requests<3,>=2.17.3->mlflow) (2024.8.30)\n",
      "Requirement already satisfied: joblib>=1.1.1 in /opt/anaconda3/lib/python3.11/site-packages (from scikit-learn<2->mlflow) (1.2.0)\n",
      "Requirement already satisfied: threadpoolctl>=2.0.0 in /opt/anaconda3/lib/python3.11/site-packages (from scikit-learn<2->mlflow) (2.2.0)\n",
      "Requirement already satisfied: wrapt<2,>=1.10 in /opt/anaconda3/lib/python3.11/site-packages (from deprecated>=1.2.6->opentelemetry-api<3,>=1.0.0->mlflow) (1.14.1)\n",
      "Requirement already satisfied: smmap<5,>=3.0.1 in /opt/anaconda3/lib/python3.11/site-packages (from gitdb<5,>=4.0.1->gitpython<4,>=3.1.9->mlflow) (4.0.0)\n"
     ]
    }
   ],
   "source": [
    "!pip install mlflow"
   ]
  },
  {
   "cell_type": "code",
   "execution_count": 12,
   "id": "6b47ff0f-d27d-419a-b0c9-9302071e77b1",
   "metadata": {},
   "outputs": [],
   "source": [
    "import mlflow\n",
    "import os"
   ]
  },
  {
   "cell_type": "code",
   "execution_count": 13,
   "id": "c39f278c-fdbb-4c80-b504-38c0251b7697",
   "metadata": {},
   "outputs": [
    {
     "name": "stderr",
     "output_type": "stream",
     "text": [
      "2024/10/14 07:41:32 INFO mlflow.tracking.fluent: Experiment with name 'Loan_status' does not exist. Creating a new experiment.\n"
     ]
    },
    {
     "data": {
      "text/plain": [
       "<Experiment: artifact_location='file:///Users/scaler/Documents/SeptMlops/mlruns/834155292156096436', creation_time=1728871892445, experiment_id='834155292156096436', last_update_time=1728871892445, lifecycle_stage='active', name='Loan_status', tags={}>"
      ]
     },
     "execution_count": 13,
     "metadata": {},
     "output_type": "execute_result"
    }
   ],
   "source": [
    "mlflow.set_experiment(\"Loan_status\")"
   ]
  },
  {
   "cell_type": "code",
   "execution_count": 14,
   "id": "84edfe2f-5b55-4bc8-acdb-3057d6e4207d",
   "metadata": {},
   "outputs": [],
   "source": [
    "# log_param() - ex : max_depth\n",
    "# log_metrics() - ex : F1 score, RMSE\n",
    "# log_artifacts()- ex : confusion metrics"
   ]
  },
  {
   "cell_type": "code",
   "execution_count": 16,
   "id": "0ee7e8e4-a33e-4568-b3fb-c3e066e659e1",
   "metadata": {},
   "outputs": [
    {
     "name": "stderr",
     "output_type": "stream",
     "text": [
      "/opt/anaconda3/lib/python3.11/site-packages/_distutils_hack/__init__.py:33: UserWarning: Setuptools is replacing distutils.\n",
      "  warnings.warn(\"Setuptools is replacing distutils.\")\n"
     ]
    }
   ],
   "source": [
    "with mlflow.start_run():\n",
    "    model_rf = RandomForestClassifier(max_depth=4, random_state=5)\n",
    "    model_rf.fit(X_train, y_train)\n",
    "\n",
    "    pred_val = model_rf.predict(X_val)\n",
    "    val_acc=accuracy_score(y_val, pred_val)\n",
    "\n",
    "    pred_train = model_rf.predict(X_train)\n",
    "    train_acc=accuracy_score(y_train, pred_train)\n",
    "\n",
    "    mlflow.set_tag('mlflow.runName', 'first_run')\n",
    "    mlflow.log_param('max_depth', 4)\n",
    "    mlflow.log_metric('val_acc', val_acc)\n",
    "    mlflow.log_metric('train_acc',train_acc)\n",
    "\n",
    "    mlflow.sklearn.log_model(model_rf, \"model\")\n",
    "    "
   ]
  },
  {
   "cell_type": "code",
   "execution_count": 17,
   "id": "61a5d066-1891-45d6-8d90-235c78baf00d",
   "metadata": {},
   "outputs": [
    {
     "name": "stdout",
     "output_type": "stream",
     "text": [
      "[2024-10-14 07:50:22 +0530] [97296] [INFO] Starting gunicorn 22.0.0\n",
      "[2024-10-14 07:50:22 +0530] [97296] [INFO] Listening at: http://127.0.0.1:5000 (97296)\n",
      "[2024-10-14 07:50:22 +0530] [97296] [INFO] Using worker: sync\n",
      "[2024-10-14 07:50:22 +0530] [97297] [INFO] Booting worker with pid: 97297\n",
      "[2024-10-14 07:50:22 +0530] [97298] [INFO] Booting worker with pid: 97298\n",
      "[2024-10-14 07:50:22 +0530] [97299] [INFO] Booting worker with pid: 97299\n",
      "[2024-10-14 07:50:22 +0530] [97300] [INFO] Booting worker with pid: 97300\n",
      "^C\n",
      "[2024-10-14 08:10:48 +0530] [97296] [INFO] Handling signal: int\n",
      "[2024-10-14 08:10:48 +0530] [97300] [INFO] Worker exiting (pid: 97300)\n",
      "[2024-10-14 08:10:48 +0530] [97299] [INFO] Worker exiting (pid: 97299)\n"
     ]
    }
   ],
   "source": [
    "!mlflow"
   ]
  },
  {
   "cell_type": "code",
   "execution_count": 20,
   "id": "ee8725b4-460c-4895-a221-a61abebb0531",
   "metadata": {},
   "outputs": [],
   "source": [
    "train_df = pd.read_csv('data_new.csv')\n",
    "train_df.head()\n",
    "\n",
    "train_df['Gender']= train_df['Gender'].map({'Male':0, 'Female':1})\n",
    "train_df['Married']= train_df['Married'].map({'No':0, 'Yes':1})\n",
    "train_df['Loan_Status']= train_df['Loan_Status'].map({'N':0, 'Y':1})\n",
    "\n",
    "train_df = train_df.dropna()\n",
    "\n",
    "X = train_df[['Gender', 'Married', 'ApplicantIncome', 'LoanAmount', 'Credit_History']]\n",
    "y = train_df.Loan_Status\n",
    "X.shape, y.shape\n",
    "\n",
    "from sklearn.model_selection import train_test_split\n",
    "\n",
    "X_train, X_val, y_train, y_val = train_test_split(X, y, test_size=0.2, random_state=5)"
   ]
  },
  {
   "cell_type": "code",
   "execution_count": 21,
   "id": "1529cd24-420e-47e1-b7bf-244e35d74123",
   "metadata": {},
   "outputs": [],
   "source": [
    "with mlflow.start_run():\n",
    "    model_rf = RandomForestClassifier(max_depth=4, random_state=5)\n",
    "    model_rf.fit(X_train, y_train)\n",
    "\n",
    "    pred_val = model_rf.predict(X_val)\n",
    "    val_acc=accuracy_score(y_val, pred_val)\n",
    "\n",
    "    pred_train = model_rf.predict(X_train)\n",
    "    train_acc=accuracy_score(y_train, pred_train)\n",
    "\n",
    "    mlflow.set_tag('mlflow.runName','new_data')\n",
    "    mlflow.log_param('max_depth',4)\n",
    "    mlflow.log_metric('val_acc',val_acc)\n",
    "    mlflow.log_metric('train_acc',train_acc)\n",
    "    mlflow.set_tag('data file','data_new.csv')\n",
    "\n",
    "    mlflow.sklearn.log_model(model_rf, \"model\")"
   ]
  },
  {
   "cell_type": "code",
   "execution_count": 23,
   "id": "195aa5da-b5dc-4293-bae2-568deae9a8c2",
   "metadata": {},
   "outputs": [
    {
     "name": "stdout",
     "output_type": "stream",
     "text": [
      "[2024-10-14 08:11:21 +0530] [97684] [INFO] Starting gunicorn 22.0.0\n",
      "[2024-10-14 08:11:21 +0530] [97684] [INFO] Listening at: http://127.0.0.1:5000 (97684)\n",
      "[2024-10-14 08:11:21 +0530] [97684] [INFO] Using worker: sync\n",
      "[2024-10-14 08:11:21 +0530] [97685] [INFO] Booting worker with pid: 97685\n",
      "[2024-10-14 08:11:21 +0530] [97686] [INFO] Booting worker with pid: 97686\n",
      "[2024-10-14 08:11:21 +0530] [97687] [INFO] Booting worker with pid: 97687\n",
      "[2024-10-14 08:11:21 +0530] [97688] [INFO] Booting worker with pid: 97688\n",
      "^C\n",
      "[2024-10-14 08:11:50 +0530] [97684] [INFO] Handling signal: int\n",
      "[2024-10-14 08:11:50 +0530] [97687] [INFO] Worker exiting (pid: 97687)\n",
      "[2024-10-14 08:11:50 +0530] [97686] [INFO] Worker exiting (pid: 97686)\n",
      "[2024-10-14 08:11:50 +0530] [97688] [INFO] Worker exiting (pid: 97688)\n",
      "[2024-10-14 08:11:50 +0530] [97685] [INFO] Worker exiting (pid: 97685)\n"
     ]
    }
   ],
   "source": [
    "!mlflow ui"
   ]
  },
  {
   "cell_type": "code",
   "execution_count": 24,
   "id": "801dc724-c9c4-4a9f-8774-2cfe6b444bc4",
   "metadata": {},
   "outputs": [],
   "source": [
    "def mlflow_runs(n_est,max_dep,i):\n",
    "    with mlflow.start_run():\n",
    "\n",
    "        model_rf = RandomForestClassifier(n_estimators=n_est, max_depth=max_dep, random_state=5)\n",
    "        model_rf.fit(X_train, y_train)\n",
    "\n",
    "        pred_val = model_rf.predict(X_val)\n",
    "        val_acc=accuracy_score(y_val, pred_val)\n",
    "\n",
    "        pred_train = model_rf.predict(X_train)\n",
    "        train_acc=accuracy_score(y_train, pred_train)\n",
    "\n",
    "        run=\"hyperparameter_run_\"+str(i)\n",
    "        mlflow.set_tag('mlflow.runName',run)\n",
    "        mlflow.log_param('n_estimators',n_est)\n",
    "        mlflow.log_param('max_depth',max_dep)\n",
    "        mlflow.log_metric('val_acc',val_acc)\n",
    "        mlflow.log_metric('train_acc',train_acc)\n",
    "        mlflow.set_tag('data file','data_new.csv')\n",
    "\n",
    "        mlflow.sklearn.log_model(model_rf, \"model\")"
   ]
  },
  {
   "cell_type": "code",
   "execution_count": 25,
   "id": "e2438c22-b29b-4b82-9405-195b4b4119d0",
   "metadata": {},
   "outputs": [],
   "source": [
    "mlflow_runs(10,2,1)\n",
    "mlflow_runs(20,2,2)\n",
    "mlflow_runs(40,2,3)\n",
    "mlflow_runs(10,4,4)\n",
    "mlflow_runs(20,4,5)\n",
    "mlflow_runs(40,4,6)\n",
    "mlflow_runs(10,8,7)\n",
    "mlflow_runs(20,8,8)\n",
    "mlflow_runs(40,8,9)"
   ]
  },
  {
   "cell_type": "code",
   "execution_count": 26,
   "id": "aa5e341f-929a-4494-9ff5-cf3483bb4ef0",
   "metadata": {},
   "outputs": [
    {
     "name": "stdout",
     "output_type": "stream",
     "text": [
      "[2024-10-14 08:14:31 +0530] [97747] [INFO] Starting gunicorn 22.0.0\n",
      "[2024-10-14 08:14:31 +0530] [97747] [INFO] Listening at: http://127.0.0.1:5000 (97747)\n",
      "[2024-10-14 08:14:31 +0530] [97747] [INFO] Using worker: sync\n",
      "[2024-10-14 08:14:31 +0530] [97748] [INFO] Booting worker with pid: 97748\n",
      "[2024-10-14 08:14:31 +0530] [97749] [INFO] Booting worker with pid: 97749\n",
      "[2024-10-14 08:14:31 +0530] [97750] [INFO] Booting worker with pid: 97750\n",
      "[2024-10-14 08:14:31 +0530] [97751] [INFO] Booting worker with pid: 97751\n",
      "^C\n",
      "[2024-10-14 08:19:18 +0530] [97747] [INFO] Handling signal: int\n",
      "[2024-10-14 08:19:18 +0530] [97750] [INFO] Worker exiting (pid: 97750)\n",
      "[2024-10-14 08:19:18 +0530] [97749] [INFO] Worker exiting (pid: 97749)\n",
      "[2024-10-14 08:19:18 +0530] [97748] [INFO] Worker exiting (pid: 97748)\n",
      "[2024-10-14 08:19:18 +0530] [97751] [INFO] Worker exiting (pid: 97751)\n"
     ]
    }
   ],
   "source": [
    "!mlflow ui"
   ]
  },
  {
   "cell_type": "code",
   "execution_count": 27,
   "id": "b861894c-864a-4921-a19c-9476a866ae3f",
   "metadata": {},
   "outputs": [
    {
     "data": {
      "image/png": "[encoded data removed]",
      "text/plain": [
       "<Figure size 640x480 with 2 Axes>"
      ]
     },
     "metadata": {},
     "output_type": "display_data"
    }
   ],
   "source": [
    "from sklearn.neighbors import KNeighborsClassifier\n",
    "import matplotlib.pyplot as plt\n",
    "from sklearn.metrics import ConfusionMatrixDisplay\n",
    "\n",
    "with mlflow.start_run():\n",
    "    knn_model= KNeighborsClassifier(n_neighbors=5)\n",
    "    knn_model.fit(X_train, y_train)\n",
    "\n",
    "    pred_val = knn_model.predict(X_val)\n",
    "    val_acc=accuracy_score(y_val, pred_val)\n",
    "\n",
    "    pred_train = knn_model.predict(X_train)\n",
    "    train_acc=accuracy_score(y_train, pred_train)\n",
    "\n",
    "    run=\"KNN\"\n",
    "    mlflow.set_tag('mlflow.runName',run)\n",
    "    mlflow.log_param('neighbors',5)\n",
    "    mlflow.log_metric('val_acc',val_acc)\n",
    "    mlflow.log_metric('train_acc',train_acc)\n",
    "    mlflow.set_tag('data file','data_new.csv')\n",
    "\n",
    "    cm=ConfusionMatrixDisplay.from_predictions( y_val,pred_val)\n",
    "    cm.figure_.savefig('confusion_mat.png')\n",
    "    mlflow.log_artifact('confusion_mat.png')\n",
    "\n",
    "    mlflow.sklearn.log_model(knn_model, \"model\")"
   ]
  },
  {
   "cell_type": "code",
   "execution_count": null,
   "id": "3dd82851-aa1f-4b63-809e-207990df02e6",
   "metadata": {},
   "outputs": [
    {
     "name": "stdout",
     "output_type": "stream",
     "text": [
      "[2024-10-14 08:20:28 +0530] [97808] [INFO] Starting gunicorn 22.0.0\n",
      "[2024-10-14 08:20:28 +0530] [97808] [INFO] Listening at: http://127.0.0.1:5000 (97808)\n",
      "[2024-10-14 08:20:28 +0530] [97808] [INFO] Using worker: sync\n",
      "[2024-10-14 08:20:28 +0530] [97809] [INFO] Booting worker with pid: 97809\n",
      "[2024-10-14 08:20:28 +0530] [97810] [INFO] Booting worker with pid: 97810\n",
      "[2024-10-14 08:20:28 +0530] [97811] [INFO] Booting worker with pid: 97811\n",
      "[2024-10-14 08:20:29 +0530] [97812] [INFO] Booting worker with pid: 97812\n"
     ]
    }
   ],
   "source": [
    "!mlflow ui"
   ]
  },
  {
   "cell_type": "code",
   "execution_count": null,
   "id": "7ba2edf3-f234-4398-a4e0-2693698e13a1",
   "metadata": {},
   "outputs": [],
   "source": []
  }
 ],
 "metadata": {
  "kernelspec": {
   "display_name": "Python 3 (ipykernel)",
   "language": "python",
   "name": "python3"
  },
  "language_info": {
   "codemirror_mode": {
    "name": "ipython",
    "version": 3
   },
   "file_extension": ".py",
   "mimetype": "text/x-python",
   "name": "python",
   "nbconvert_exporter": "python",
   "pygments_lexer": "ipython3",
   "version": "3.11.7"
  }
 },
 "nbformat": 4,
 "nbformat_minor": 5
}
